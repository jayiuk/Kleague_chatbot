{
 "cells": [
  {
   "cell_type": "code",
   "execution_count": 1,
   "metadata": {},
   "outputs": [
    {
     "name": "stdout",
     "output_type": "stream",
     "text": [
      "[]\n"
     ]
    }
   ],
   "source": [
    "from kleague_crawling import crawler\n",
    "url = 'https://www.kleague.com/news_list.do?category=club&orderBy=seq&viewOption=album'\n",
    "crawl = crawler(url)\n",
    "att = crawl.get_url()"
   ]
  },
  {
   "cell_type": "code",
   "execution_count": 2,
   "metadata": {},
   "outputs": [
    {
     "data": {
      "text/plain": [
       "[]"
      ]
     },
     "execution_count": 2,
     "metadata": {},
     "output_type": "execute_result"
    }
   ],
   "source": [
    "att"
   ]
  },
  {
   "cell_type": "code",
   "execution_count": 4,
   "metadata": {},
   "outputs": [],
   "source": [
    "from selenium import webdriver\n",
    "from selenium.webdriver.chrome.service import Service\n",
    "from selenium.webdriver.common.by import By\n",
    "from webdriver_manager.chrome import ChromeDriverManager\n",
    "import time\n",
    "\n",
    "# 1. Selenium 웹 드라이버 설정\n",
    "service = Service(ChromeDriverManager().install())\n",
    "driver = webdriver.Chrome(service=service)\n",
    "\n",
    "# 2. 크롤링할 웹사이트로 이동\n",
    "url = 'https://www.kleague.com/news_list.do?category=club&orderBy=seq&viewOption=album'\n",
    "driver.get(url)\n",
    "\n",
    "# 3. 페이지 로드 시간 대기 (필요시 조정)\n",
    "time.sleep(5)  # 5초 대기\n",
    "\n",
    "# 4. 뉴스 URL 크롤링\n",
    "news_elements = driver.find_elements(By.CSS_SELECTOR, 'div.news_cont a')\n",
    "\n",
    "# 5. URL 수집\n",
    "news_urls = []\n",
    "for news in news_elements:\n",
    "    link = news.get_attribute('href')\n",
    "    news_urls.append(link)\n",
    "\n",
    "# 6. 결과 출력\n",
    "for idx, url in enumerate(news_urls):\n",
    "    print(f\"{idx + 1}: {url}\")\n",
    "\n",
    "# 7. 드라이버 종료\n",
    "driver.quit()\n"
   ]
  },
  {
   "cell_type": "code",
   "execution_count": 5,
   "metadata": {},
   "outputs": [
    {
     "data": {
      "text/plain": [
       "[]"
      ]
     },
     "execution_count": 5,
     "metadata": {},
     "output_type": "execute_result"
    }
   ],
   "source": [
    "news_urls"
   ]
  },
  {
   "cell_type": "code",
   "execution_count": null,
   "metadata": {},
   "outputs": [],
   "source": []
  }
 ],
 "metadata": {
  "kernelspec": {
   "display_name": "nlp",
   "language": "python",
   "name": "python3"
  },
  "language_info": {
   "codemirror_mode": {
    "name": "ipython",
    "version": 3
   },
   "file_extension": ".py",
   "mimetype": "text/x-python",
   "name": "python",
   "nbconvert_exporter": "python",
   "pygments_lexer": "ipython3",
   "version": "3.11.7"
  }
 },
 "nbformat": 4,
 "nbformat_minor": 2
}
