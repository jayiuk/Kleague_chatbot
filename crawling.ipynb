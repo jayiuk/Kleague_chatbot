{
 "cells": [
  {
   "cell_type": "code",
   "execution_count": 1,
   "metadata": {},
   "outputs": [],
   "source": [
    "import pandas as pd\n",
    "import numpy as np\n",
    "import seaborn\n",
    "from bs4 import BeautifulSoup\n",
    "import requests\n",
    "from tqdm import tqdm"
   ]
  },
  {
   "cell_type": "code",
   "execution_count": 20,
   "metadata": {},
   "outputs": [],
   "source": [
    "import pandas as pd\n",
    "import numpy as np\n",
    "import seaborn\n",
    "from bs4 import BeautifulSoup\n",
    "import requests\n",
    "from tqdm import tqdm\n",
    "class get_news():\n",
    "    def __init__(self, link, date):\n",
    "        self.link = link\n",
    "        self.date = date\n",
    "    \n",
    "    def get_article_url(self):\n",
    "        link = self.link\n",
    "        date = self.date\n",
    "        main_url = link + date\n",
    "        respose = requests.get(main_url, headers = {'User-Agent' : 'Moailla/5.0'})\n",
    "        html = respose.content\n",
    "        soup = BeautifulSoup(html, 'html.parser')\n",
    "        page = soup.find_all('div', {'class' : 'paginate'})\n",
    "        page_number = page.select('data-id')\n",
    "        try :\n",
    "            end_page = int(page_number[-1])\n",
    "        except :\n",
    "            end_page = 1"
   ]
  },
  {
   "cell_type": "code",
   "execution_count": 21,
   "metadata": {},
   "outputs": [
    {
     "data": {
      "text/plain": [
       "[]"
      ]
     },
     "execution_count": 21,
     "metadata": {},
     "output_type": "execute_result"
    }
   ],
   "source": [
    "base = 'https://sports.news.naver.com/kfootball/news/index?isphoto=N'\n",
    "date = '20240911'\n",
    "gn = get_news(base, date)\n",
    "li = gn.get_article_url()\n",
    "li"
   ]
  },
  {
   "cell_type": "code",
   "execution_count": null,
   "metadata": {},
   "outputs": [],
   "source": []
  }
 ],
 "metadata": {
  "kernelspec": {
   "display_name": "arti",
   "language": "python",
   "name": "python3"
  },
  "language_info": {
   "codemirror_mode": {
    "name": "ipython",
    "version": 3
   },
   "file_extension": ".py",
   "mimetype": "text/x-python",
   "name": "python",
   "nbconvert_exporter": "python",
   "pygments_lexer": "ipython3",
   "version": "3.11.7"
  }
 },
 "nbformat": 4,
 "nbformat_minor": 2
}
